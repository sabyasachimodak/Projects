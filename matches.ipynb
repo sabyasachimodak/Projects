{
 "cells": [
  {
   "cell_type": "code",
   "execution_count": 353,
   "metadata": {},
   "outputs": [],
   "source": [
    "import numpy as np # linear algebra\n",
    "import pandas as pd # data processing, CSV file I/O (e.g. pd.read_csv)\n",
    "import matplotlib.pyplot as plt\n",
    "import seaborn as sns\n",
    "import warnings"
   ]
  },
  {
   "cell_type": "code",
   "execution_count": 354,
   "metadata": {},
   "outputs": [],
   "source": [
    "#importing the data for all matches\n",
    "df_matches= pd.read_excel('DIM_MATCH.xlsx',sheet_name='MATCH')"
   ]
  },
  {
   "cell_type": "code",
   "execution_count": 355,
   "metadata": {},
   "outputs": [
    {
     "data": {
      "text/html": [
       "<div>\n",
       "<style scoped>\n",
       "    .dataframe tbody tr th:only-of-type {\n",
       "        vertical-align: middle;\n",
       "    }\n",
       "\n",
       "    .dataframe tbody tr th {\n",
       "        vertical-align: top;\n",
       "    }\n",
       "\n",
       "    .dataframe thead th {\n",
       "        text-align: right;\n",
       "    }\n",
       "</style>\n",
       "<table border=\"1\" class=\"dataframe\">\n",
       "  <thead>\n",
       "    <tr style=\"text-align: right;\">\n",
       "      <th></th>\n",
       "      <th>Match_SK</th>\n",
       "      <th>match_id</th>\n",
       "      <th>Team1</th>\n",
       "      <th>Team2</th>\n",
       "      <th>match_date</th>\n",
       "      <th>Season_Year</th>\n",
       "      <th>Venue_Name</th>\n",
       "      <th>City_Name</th>\n",
       "      <th>Country_Name</th>\n",
       "      <th>Toss_Winner</th>\n",
       "      <th>match_winner</th>\n",
       "      <th>Toss_Name</th>\n",
       "      <th>Win_Type</th>\n",
       "      <th>Outcome_Type</th>\n",
       "      <th>ManOfMach</th>\n",
       "      <th>Win_Margin</th>\n",
       "      <th>Country_id</th>\n",
       "    </tr>\n",
       "  </thead>\n",
       "  <tbody>\n",
       "    <tr>\n",
       "      <th>0</th>\n",
       "      <td>546</td>\n",
       "      <td>980964</td>\n",
       "      <td>Royal Challengers Bangalore</td>\n",
       "      <td>Kolkata Knight Riders</td>\n",
       "      <td>2016-05-02</td>\n",
       "      <td>2016</td>\n",
       "      <td>M Chinnaswamy Stadium</td>\n",
       "      <td>Bangalore</td>\n",
       "      <td>India</td>\n",
       "      <td>Kolkata Knight Riders</td>\n",
       "      <td>Kolkata Knight Riders</td>\n",
       "      <td>field</td>\n",
       "      <td>wickets</td>\n",
       "      <td>Result</td>\n",
       "      <td>AD Russell</td>\n",
       "      <td>5.0</td>\n",
       "      <td>1</td>\n",
       "    </tr>\n",
       "    <tr>\n",
       "      <th>1</th>\n",
       "      <td>547</td>\n",
       "      <td>980966</td>\n",
       "      <td>Gujarat Lions</td>\n",
       "      <td>Delhi Daredevils</td>\n",
       "      <td>2016-05-03</td>\n",
       "      <td>2016</td>\n",
       "      <td>Saurashtra Cricket Association Stadium</td>\n",
       "      <td>Rajkot</td>\n",
       "      <td>India</td>\n",
       "      <td>Delhi Daredevils</td>\n",
       "      <td>Delhi Daredevils</td>\n",
       "      <td>field</td>\n",
       "      <td>wickets</td>\n",
       "      <td>Result</td>\n",
       "      <td>RR Pant</td>\n",
       "      <td>8.0</td>\n",
       "      <td>1</td>\n",
       "    </tr>\n",
       "    <tr>\n",
       "      <th>2</th>\n",
       "      <td>548</td>\n",
       "      <td>980968</td>\n",
       "      <td>Kolkata Knight Riders</td>\n",
       "      <td>Kings XI Punjab</td>\n",
       "      <td>2016-05-04</td>\n",
       "      <td>2016</td>\n",
       "      <td>Eden Gardens</td>\n",
       "      <td>Kolkata</td>\n",
       "      <td>India</td>\n",
       "      <td>Kings XI Punjab</td>\n",
       "      <td>Kolkata Knight Riders</td>\n",
       "      <td>field</td>\n",
       "      <td>runs</td>\n",
       "      <td>Result</td>\n",
       "      <td>AD Russell</td>\n",
       "      <td>7.0</td>\n",
       "      <td>1</td>\n",
       "    </tr>\n",
       "    <tr>\n",
       "      <th>3</th>\n",
       "      <td>549</td>\n",
       "      <td>980970</td>\n",
       "      <td>Delhi Daredevils</td>\n",
       "      <td>Rising Pune Supergiants</td>\n",
       "      <td>2016-05-05</td>\n",
       "      <td>2016</td>\n",
       "      <td>Feroz Shah Kotla</td>\n",
       "      <td>Delhi</td>\n",
       "      <td>India</td>\n",
       "      <td>Rising Pune Supergiants</td>\n",
       "      <td>Rising Pune Supergiants</td>\n",
       "      <td>field</td>\n",
       "      <td>wickets</td>\n",
       "      <td>Result</td>\n",
       "      <td>AM Rahane</td>\n",
       "      <td>7.0</td>\n",
       "      <td>1</td>\n",
       "    </tr>\n",
       "    <tr>\n",
       "      <th>4</th>\n",
       "      <td>550</td>\n",
       "      <td>980972</td>\n",
       "      <td>Sunrisers Hyderabad</td>\n",
       "      <td>Gujarat Lions</td>\n",
       "      <td>2016-05-06</td>\n",
       "      <td>2016</td>\n",
       "      <td>Rajiv Gandhi International Stadium, Uppal</td>\n",
       "      <td>Hyderabad</td>\n",
       "      <td>India</td>\n",
       "      <td>Sunrisers Hyderabad</td>\n",
       "      <td>Sunrisers Hyderabad</td>\n",
       "      <td>field</td>\n",
       "      <td>wickets</td>\n",
       "      <td>Result</td>\n",
       "      <td>B Kumar</td>\n",
       "      <td>5.0</td>\n",
       "      <td>1</td>\n",
       "    </tr>\n",
       "  </tbody>\n",
       "</table>\n",
       "</div>"
      ],
      "text/plain": [
       "   Match_SK  match_id                        Team1                    Team2  \\\n",
       "0       546    980964  Royal Challengers Bangalore    Kolkata Knight Riders   \n",
       "1       547    980966                Gujarat Lions         Delhi Daredevils   \n",
       "2       548    980968        Kolkata Knight Riders          Kings XI Punjab   \n",
       "3       549    980970             Delhi Daredevils  Rising Pune Supergiants   \n",
       "4       550    980972          Sunrisers Hyderabad            Gujarat Lions   \n",
       "\n",
       "  match_date  Season_Year                                 Venue_Name  \\\n",
       "0 2016-05-02         2016                      M Chinnaswamy Stadium   \n",
       "1 2016-05-03         2016     Saurashtra Cricket Association Stadium   \n",
       "2 2016-05-04         2016                               Eden Gardens   \n",
       "3 2016-05-05         2016                           Feroz Shah Kotla   \n",
       "4 2016-05-06         2016  Rajiv Gandhi International Stadium, Uppal   \n",
       "\n",
       "   City_Name Country_Name              Toss_Winner             match_winner  \\\n",
       "0  Bangalore        India    Kolkata Knight Riders    Kolkata Knight Riders   \n",
       "1     Rajkot        India         Delhi Daredevils         Delhi Daredevils   \n",
       "2    Kolkata        India          Kings XI Punjab    Kolkata Knight Riders   \n",
       "3      Delhi        India  Rising Pune Supergiants  Rising Pune Supergiants   \n",
       "4  Hyderabad        India      Sunrisers Hyderabad      Sunrisers Hyderabad   \n",
       "\n",
       "  Toss_Name Win_Type Outcome_Type   ManOfMach  Win_Margin  Country_id  \n",
       "0     field  wickets       Result  AD Russell         5.0           1  \n",
       "1     field  wickets       Result     RR Pant         8.0           1  \n",
       "2     field     runs       Result  AD Russell         7.0           1  \n",
       "3     field  wickets       Result   AM Rahane         7.0           1  \n",
       "4     field  wickets       Result     B Kumar         5.0           1  "
      ]
     },
     "execution_count": 355,
     "metadata": {},
     "output_type": "execute_result"
    }
   ],
   "source": [
    "#display matches\n",
    "df_matches.head()"
   ]
  },
  {
   "cell_type": "code",
   "execution_count": 356,
   "metadata": {},
   "outputs": [
    {
     "data": {
      "text/plain": [
       "Team1\n",
       "Chennai Super Kings            131\n",
       "Deccan Chargers                 75\n",
       "Delhi Daredevils               147\n",
       "Gujarat Lions                   30\n",
       "Kings XI Punjab                148\n",
       "Kochi Tuskers Kerala            14\n",
       "Kolkata Knight Riders          148\n",
       "Mumbai Indians                 157\n",
       "Pune Warriors                   46\n",
       "Rajasthan Royals               118\n",
       "Rising Pune Supergiants         30\n",
       "Royal Challengers Bangalore    153\n",
       "Sunrisers Hyderabad             77\n",
       "dtype: int64"
      ]
     },
     "execution_count": 356,
     "metadata": {},
     "output_type": "execute_result"
    }
   ],
   "source": [
    "#number of games played by each team\n",
    "np.ar= df_matches.groupby('Team1').size() + df_matches.groupby('Team2').size()\n",
    "np.ar"
   ]
  },
  {
   "cell_type": "code",
   "execution_count": 357,
   "metadata": {},
   "outputs": [
    {
     "data": {
      "text/plain": [
       "match_winner\n",
       "Chennai Super Kings            79\n",
       "Deccan Chargers                29\n",
       "Delhi Daredevils               62\n",
       "Gujarat Lions                  13\n",
       "Kings XI Punjab                70\n",
       "Kochi Tuskers Kerala            6\n",
       "Kolkata Knight Riders          77\n",
       "Mumbai Indians                 91\n",
       "Pune Warriors                  12\n",
       "Rajasthan Royals               63\n",
       "Rising Pune Supergiants        15\n",
       "Royal Challengers Bangalore    73\n",
       "Sunrisers Hyderabad            42\n",
       "abandoned                       1\n",
       "tied                            1\n",
       "dtype: int64"
      ]
     },
     "execution_count": 357,
     "metadata": {},
     "output_type": "execute_result"
    }
   ],
   "source": [
    "#total number of wins for each team\n",
    "np.win = df_matches.groupby('match_winner').size()\n",
    "np.win"
   ]
  },
  {
   "cell_type": "code",
   "execution_count": 358,
   "metadata": {},
   "outputs": [
    {
     "data": {
      "text/plain": [
       "Chennai Super Kings            60.305344\n",
       "Deccan Chargers                38.666667\n",
       "Delhi Daredevils               42.176871\n",
       "Gujarat Lions                  43.333333\n",
       "Kings XI Punjab                47.297297\n",
       "Kochi Tuskers Kerala           42.857143\n",
       "Kolkata Knight Riders          52.027027\n",
       "Mumbai Indians                 57.961783\n",
       "Pune Warriors                  26.086957\n",
       "Rajasthan Royals               53.389831\n",
       "Rising Pune Supergiants        50.000000\n",
       "Royal Challengers Bangalore    47.712418\n",
       "Sunrisers Hyderabad            54.545455\n",
       "abandoned                            NaN\n",
       "tied                                 NaN\n",
       "dtype: float64"
      ]
     },
     "execution_count": 358,
     "metadata": {},
     "output_type": "execute_result"
    }
   ],
   "source": [
    "#winning percentage of each team\n",
    "np.perwin = (np.win / np.ar)*100\n",
    "np.perwin"
   ]
  },
  {
   "cell_type": "code",
   "execution_count": 359,
   "metadata": {},
   "outputs": [
    {
     "data": {
      "text/html": [
       "<script type=\"text/javascript\">window.PlotlyConfig = {MathJaxConfig: 'local'};</script><script type=\"text/javascript\">if (window.MathJax) {MathJax.Hub.Config({SVG: {font: \"STIX-Web\"}});}</script><script>requirejs.config({paths: { 'plotly': ['https://cdn.plot.ly/plotly-latest.min']},});if(!window._Plotly) {require(['plotly'],function(plotly) {window._Plotly=plotly;});}</script>"
      ],
      "text/vnd.plotly.v1+html": [
       "<script type=\"text/javascript\">window.PlotlyConfig = {MathJaxConfig: 'local'};</script><script type=\"text/javascript\">if (window.MathJax) {MathJax.Hub.Config({SVG: {font: \"STIX-Web\"}});}</script><script>requirejs.config({paths: { 'plotly': ['https://cdn.plot.ly/plotly-latest.min']},});if(!window._Plotly) {require(['plotly'],function(plotly) {window._Plotly=plotly;});}</script>"
      ]
     },
     "metadata": {},
     "output_type": "display_data"
    }
   ],
   "source": [
    "import plotly.plotly as py\n",
    "import plotly\n",
    "import plotly.graph_objs as go\n",
    "init_notebook_mode(connected=True)\n",
    "from plotly import version\n",
    "from plotly.offline import download_plotlyjs, init_notebook_mode, plot, iplot"
   ]
  },
  {
   "cell_type": "code",
   "execution_count": 360,
   "metadata": {},
   "outputs": [
    {
     "data": {
      "application/vnd.plotly.v1+json": {
       "config": {
        "linkText": "Export to plot.ly",
        "plotlyServerURL": "https://plot.ly",
        "showLink": true
       },
       "data": [
        {
         "marker": {
          "color": "rgb(158,202,225)",
          "line": {
           "color": "rgb(8,48,107)",
           "width": 1.5
          }
         },
         "opacity": 0.6,
         "text": [
          "win percentage",
          "win percentage",
          "win percentage",
          "win percentage",
          "win percentage",
          "win percentage",
          "win percentage",
          "win percentage",
          "win percentage",
          "win percentage",
          "win percentage",
          "win percentage",
          "win percentage"
         ],
         "type": "bar",
         "uid": "a85efe4a-637c-4d8a-a800-09d9823e9604",
         "x": [
          "Chennai Super Kings ",
          "Deccan Chargers",
          "Delhi Daredevils",
          "Gujarat Lions",
          "Kings XI Punjab",
          "Kochi Tuskers Kerala",
          "Kolkata Knight Riders",
          "Mumbai Indians",
          "Pune Warriors",
          "Rajasthan Royals",
          "Rising Pune Supergiants",
          "Royal Challengers Bangalore",
          "Sunrisers Hyderabad"
         ],
         "y": [
          60.31,
          38.67,
          42.18,
          43.33,
          47.3,
          42.86,
          52.03,
          57.97,
          26.09,
          53.39,
          50,
          47.71,
          54.55
         ]
        }
       ],
       "layout": {
        "title": "Win Percentage of Every Team Since 2008 to 2017",
        "yaxis": {
         "dtick": 20,
         "range": [
          1,
          100
         ],
         "ticksuffix": "%",
         "type": "linear"
        }
       }
      },
      "text/html": [
       "<div id=\"11285dbe-fb06-452b-baa7-2f9eabf11364\" style=\"height: 525px; width: 100%;\" class=\"plotly-graph-div\"></div><script type=\"text/javascript\">require([\"plotly\"], function(Plotly) { window.PLOTLYENV=window.PLOTLYENV || {};window.PLOTLYENV.BASE_URL=\"https://plot.ly\";Plotly.newPlot(\"11285dbe-fb06-452b-baa7-2f9eabf11364\", [{\"marker\": {\"color\": \"rgb(158,202,225)\", \"line\": {\"color\": \"rgb(8,48,107)\", \"width\": 1.5}}, \"opacity\": 0.6, \"text\": [\"win percentage\", \"win percentage\", \"win percentage\", \"win percentage\", \"win percentage\", \"win percentage\", \"win percentage\", \"win percentage\", \"win percentage\", \"win percentage\", \"win percentage\", \"win percentage\", \"win percentage\"], \"x\": [\"Chennai Super Kings \", \"Deccan Chargers\", \"Delhi Daredevils\", \"Gujarat Lions\", \"Kings XI Punjab\", \"Kochi Tuskers Kerala\", \"Kolkata Knight Riders\", \"Mumbai Indians\", \"Pune Warriors\", \"Rajasthan Royals\", \"Rising Pune Supergiants\", \"Royal Challengers Bangalore\", \"Sunrisers Hyderabad\"], \"y\": [60.31, 38.67, 42.18, 43.33, 47.3, 42.86, 52.03, 57.97, 26.09, 53.39, 50.0, 47.71, 54.55], \"type\": \"bar\", \"uid\": \"a85efe4a-637c-4d8a-a800-09d9823e9604\"}], {\"title\": \"Win Percentage of Every Team Since 2008 to 2017\", \"yaxis\": {\"dtick\": 20, \"range\": [1, 100], \"ticksuffix\": \"%\", \"type\": \"linear\"}}, {\"showLink\": true, \"linkText\": \"Export to plot.ly\", \"plotlyServerURL\": \"https://plot.ly\"})});</script><script type=\"text/javascript\">window.addEventListener(\"resize\", function(){window._Plotly.Plots.resize(document.getElementById(\"11285dbe-fb06-452b-baa7-2f9eabf11364\"));});</script>"
      ],
      "text/vnd.plotly.v1+html": [
       "<div id=\"11285dbe-fb06-452b-baa7-2f9eabf11364\" style=\"height: 525px; width: 100%;\" class=\"plotly-graph-div\"></div><script type=\"text/javascript\">require([\"plotly\"], function(Plotly) { window.PLOTLYENV=window.PLOTLYENV || {};window.PLOTLYENV.BASE_URL=\"https://plot.ly\";Plotly.newPlot(\"11285dbe-fb06-452b-baa7-2f9eabf11364\", [{\"marker\": {\"color\": \"rgb(158,202,225)\", \"line\": {\"color\": \"rgb(8,48,107)\", \"width\": 1.5}}, \"opacity\": 0.6, \"text\": [\"win percentage\", \"win percentage\", \"win percentage\", \"win percentage\", \"win percentage\", \"win percentage\", \"win percentage\", \"win percentage\", \"win percentage\", \"win percentage\", \"win percentage\", \"win percentage\", \"win percentage\"], \"x\": [\"Chennai Super Kings \", \"Deccan Chargers\", \"Delhi Daredevils\", \"Gujarat Lions\", \"Kings XI Punjab\", \"Kochi Tuskers Kerala\", \"Kolkata Knight Riders\", \"Mumbai Indians\", \"Pune Warriors\", \"Rajasthan Royals\", \"Rising Pune Supergiants\", \"Royal Challengers Bangalore\", \"Sunrisers Hyderabad\"], \"y\": [60.31, 38.67, 42.18, 43.33, 47.3, 42.86, 52.03, 57.97, 26.09, 53.39, 50.0, 47.71, 54.55], \"type\": \"bar\", \"uid\": \"a85efe4a-637c-4d8a-a800-09d9823e9604\"}], {\"title\": \"Win Percentage of Every Team Since 2008 to 2017\", \"yaxis\": {\"dtick\": 20, \"range\": [1, 100], \"ticksuffix\": \"%\", \"type\": \"linear\"}}, {\"showLink\": true, \"linkText\": \"Export to plot.ly\", \"plotlyServerURL\": \"https://plot.ly\"})});</script><script type=\"text/javascript\">window.addEventListener(\"resize\", function(){window._Plotly.Plots.resize(document.getElementById(\"11285dbe-fb06-452b-baa7-2f9eabf11364\"));});</script>"
      ]
     },
     "metadata": {},
     "output_type": "display_data"
    }
   ],
   "source": [
    "#plotting the 1st bar graph\n",
    "trace0 = go.Bar(\n",
    "    x=['Chennai Super Kings ', 'Deccan Chargers', 'Delhi Daredevils', 'Gujarat Lions', 'Kings XI Punjab', 'Kochi Tuskers Kerala', 'Kolkata Knight Riders', 'Mumbai Indians', 'Pune Warriors', 'Rajasthan Royals', 'Rising Pune Supergiants', 'Royal Challengers Bangalore', 'Sunrisers Hyderabad'],\n",
    "    y=[60.31, 38.67, 42.18, 43.33, 47.30, 42.86, 52.03, 57.97, 26.09, 53.39, 50.00, 47.71, 54.55],\n",
    "    text=['win percentage', 'win percentage', 'win percentage', 'win percentage', 'win percentage', 'win percentage', 'win percentage', 'win percentage', 'win percentage', 'win percentage', 'win percentage', 'win percentage', 'win percentage'],\n",
    "    marker=dict(\n",
    "        color='rgb(158,202,225)',\n",
    "        line=dict(\n",
    "            color='rgb(8,48,107)',\n",
    "            width=1.5,\n",
    "        )\n",
    "    ),\n",
    "    opacity=0.6\n",
    ")\n",
    "\n",
    "data = [trace0]\n",
    "layout = go.Layout(\n",
    "    title='Win Percentage of Every Team Since 2008 to 2017',\n",
    "    yaxis=dict(\n",
    "        type='linear',\n",
    "        range=[1, 100],\n",
    "        dtick=20,\n",
    "        ticksuffix='%'\n",
    "    )\n",
    ")\n",
    "\n",
    "fig = go.Figure(data=data, layout=layout)\n",
    "plotly.offline.iplot(fig, filename='text-hover-bar')"
   ]
  },
  {
   "cell_type": "code",
   "execution_count": 361,
   "metadata": {
    "scrolled": false
   },
   "outputs": [],
   "source": [
    "#importing the 2nd file with players data\n",
    "df_player = pd.read_excel('DIM_PLAYER_1.xlsx', sheet_name = 'DIM_PLAYER')"
   ]
  },
  {
   "cell_type": "code",
   "execution_count": 362,
   "metadata": {},
   "outputs": [
    {
     "data": {
      "text/html": [
       "<div>\n",
       "<style scoped>\n",
       "    .dataframe tbody tr th:only-of-type {\n",
       "        vertical-align: middle;\n",
       "    }\n",
       "\n",
       "    .dataframe tbody tr th {\n",
       "        vertical-align: top;\n",
       "    }\n",
       "\n",
       "    .dataframe thead th {\n",
       "        text-align: right;\n",
       "    }\n",
       "</style>\n",
       "<table border=\"1\" class=\"dataframe\">\n",
       "  <thead>\n",
       "    <tr style=\"text-align: right;\">\n",
       "      <th></th>\n",
       "      <th>PLAYER_SK</th>\n",
       "      <th>Player_Id</th>\n",
       "      <th>Player_Name</th>\n",
       "      <th>DOB</th>\n",
       "      <th>Batting_hand</th>\n",
       "      <th>Bowling_skill</th>\n",
       "      <th>Country_Name</th>\n",
       "      <th>Country_Code</th>\n",
       "    </tr>\n",
       "  </thead>\n",
       "  <tbody>\n",
       "    <tr>\n",
       "      <th>0</th>\n",
       "      <td>0</td>\n",
       "      <td>1</td>\n",
       "      <td>SC Ganguly</td>\n",
       "      <td>1972-07-08</td>\n",
       "      <td>Left-hand bat</td>\n",
       "      <td>Right-arm medium</td>\n",
       "      <td>India</td>\n",
       "      <td>IND</td>\n",
       "    </tr>\n",
       "    <tr>\n",
       "      <th>1</th>\n",
       "      <td>1</td>\n",
       "      <td>2</td>\n",
       "      <td>BB McCullum</td>\n",
       "      <td>1981-09-27</td>\n",
       "      <td>Right-hand bat</td>\n",
       "      <td>Right-arm medium</td>\n",
       "      <td>New Zealand</td>\n",
       "      <td>NZL</td>\n",
       "    </tr>\n",
       "    <tr>\n",
       "      <th>2</th>\n",
       "      <td>2</td>\n",
       "      <td>3</td>\n",
       "      <td>RT Ponting</td>\n",
       "      <td>1974-12-19</td>\n",
       "      <td>Right-hand bat</td>\n",
       "      <td>Right-arm medium</td>\n",
       "      <td>Australia</td>\n",
       "      <td>AUS</td>\n",
       "    </tr>\n",
       "    <tr>\n",
       "      <th>3</th>\n",
       "      <td>3</td>\n",
       "      <td>4</td>\n",
       "      <td>DJ Hussey</td>\n",
       "      <td>1977-07-15</td>\n",
       "      <td>Right-hand bat</td>\n",
       "      <td>Right-arm offbreak</td>\n",
       "      <td>Australia</td>\n",
       "      <td>AUS</td>\n",
       "    </tr>\n",
       "    <tr>\n",
       "      <th>4</th>\n",
       "      <td>4</td>\n",
       "      <td>5</td>\n",
       "      <td>Mohammad Hafeez</td>\n",
       "      <td>1980-10-17</td>\n",
       "      <td>Right-hand bat</td>\n",
       "      <td>Right-arm offbreak</td>\n",
       "      <td>Pakistan</td>\n",
       "      <td>PAK</td>\n",
       "    </tr>\n",
       "  </tbody>\n",
       "</table>\n",
       "</div>"
      ],
      "text/plain": [
       "   PLAYER_SK  Player_Id      Player_Name        DOB    Batting_hand  \\\n",
       "0          0          1       SC Ganguly 1972-07-08   Left-hand bat   \n",
       "1          1          2      BB McCullum 1981-09-27  Right-hand bat   \n",
       "2          2          3       RT Ponting 1974-12-19  Right-hand bat   \n",
       "3          3          4        DJ Hussey 1977-07-15  Right-hand bat   \n",
       "4          4          5  Mohammad Hafeez 1980-10-17  Right-hand bat   \n",
       "\n",
       "        Bowling_skill Country_Name Country_Code  \n",
       "0    Right-arm medium        India          IND  \n",
       "1    Right-arm medium  New Zealand          NZL  \n",
       "2    Right-arm medium    Australia          AUS  \n",
       "3  Right-arm offbreak    Australia          AUS  \n",
       "4  Right-arm offbreak     Pakistan          PAK  "
      ]
     },
     "execution_count": 362,
     "metadata": {},
     "output_type": "execute_result"
    }
   ],
   "source": [
    "#showing players details\n",
    "df_player.head()"
   ]
  },
  {
   "cell_type": "code",
   "execution_count": 363,
   "metadata": {},
   "outputs": [],
   "source": [
    "player_info = df_player"
   ]
  },
  {
   "cell_type": "code",
   "execution_count": 364,
   "metadata": {},
   "outputs": [
    {
     "data": {
      "text/html": [
       "<div>\n",
       "<style scoped>\n",
       "    .dataframe tbody tr th:only-of-type {\n",
       "        vertical-align: middle;\n",
       "    }\n",
       "\n",
       "    .dataframe tbody tr th {\n",
       "        vertical-align: top;\n",
       "    }\n",
       "\n",
       "    .dataframe thead th {\n",
       "        text-align: right;\n",
       "    }\n",
       "</style>\n",
       "<table border=\"1\" class=\"dataframe\">\n",
       "  <thead>\n",
       "    <tr style=\"text-align: right;\">\n",
       "      <th></th>\n",
       "      <th>PLAYER_SK</th>\n",
       "      <th>Player_Id</th>\n",
       "      <th>Player_Name</th>\n",
       "      <th>DOB</th>\n",
       "      <th>Batting_hand</th>\n",
       "      <th>Bowling_skill</th>\n",
       "      <th>Country_Name</th>\n",
       "      <th>Country_Code</th>\n",
       "    </tr>\n",
       "  </thead>\n",
       "  <tbody>\n",
       "    <tr>\n",
       "      <th>0</th>\n",
       "      <td>0</td>\n",
       "      <td>1</td>\n",
       "      <td>SC Ganguly</td>\n",
       "      <td>1972-07-08</td>\n",
       "      <td>Left-hand bat</td>\n",
       "      <td>Right-arm medium</td>\n",
       "      <td>India</td>\n",
       "      <td>IND</td>\n",
       "    </tr>\n",
       "    <tr>\n",
       "      <th>1</th>\n",
       "      <td>1</td>\n",
       "      <td>2</td>\n",
       "      <td>BB McCullum</td>\n",
       "      <td>1981-09-27</td>\n",
       "      <td>Right-hand bat</td>\n",
       "      <td>Right-arm medium</td>\n",
       "      <td>New Zealand</td>\n",
       "      <td>NZL</td>\n",
       "    </tr>\n",
       "    <tr>\n",
       "      <th>2</th>\n",
       "      <td>2</td>\n",
       "      <td>3</td>\n",
       "      <td>RT Ponting</td>\n",
       "      <td>1974-12-19</td>\n",
       "      <td>Right-hand bat</td>\n",
       "      <td>Right-arm medium</td>\n",
       "      <td>Australia</td>\n",
       "      <td>AUS</td>\n",
       "    </tr>\n",
       "    <tr>\n",
       "      <th>3</th>\n",
       "      <td>3</td>\n",
       "      <td>4</td>\n",
       "      <td>DJ Hussey</td>\n",
       "      <td>1977-07-15</td>\n",
       "      <td>Right-hand bat</td>\n",
       "      <td>Right-arm offbreak</td>\n",
       "      <td>Australia</td>\n",
       "      <td>AUS</td>\n",
       "    </tr>\n",
       "    <tr>\n",
       "      <th>4</th>\n",
       "      <td>4</td>\n",
       "      <td>5</td>\n",
       "      <td>Mohammad Hafeez</td>\n",
       "      <td>1980-10-17</td>\n",
       "      <td>Right-hand bat</td>\n",
       "      <td>Right-arm offbreak</td>\n",
       "      <td>Pakistan</td>\n",
       "      <td>PAK</td>\n",
       "    </tr>\n",
       "  </tbody>\n",
       "</table>\n",
       "</div>"
      ],
      "text/plain": [
       "   PLAYER_SK  Player_Id      Player_Name        DOB    Batting_hand  \\\n",
       "0          0          1       SC Ganguly 1972-07-08   Left-hand bat   \n",
       "1          1          2      BB McCullum 1981-09-27  Right-hand bat   \n",
       "2          2          3       RT Ponting 1974-12-19  Right-hand bat   \n",
       "3          3          4        DJ Hussey 1977-07-15  Right-hand bat   \n",
       "4          4          5  Mohammad Hafeez 1980-10-17  Right-hand bat   \n",
       "\n",
       "        Bowling_skill Country_Name Country_Code  \n",
       "0    Right-arm medium        India          IND  \n",
       "1    Right-arm medium  New Zealand          NZL  \n",
       "2    Right-arm medium    Australia          AUS  \n",
       "3  Right-arm offbreak    Australia          AUS  \n",
       "4  Right-arm offbreak     Pakistan          PAK  "
      ]
     },
     "execution_count": 364,
     "metadata": {},
     "output_type": "execute_result"
    }
   ],
   "source": [
    "player_info.head()"
   ]
  },
  {
   "cell_type": "code",
   "execution_count": 365,
   "metadata": {},
   "outputs": [],
   "source": [
    "#merging the data of matches with the data of players with respect to player name\n",
    "mom = pd.merge(df_matches, player_info, left_on = 'ManOfMach', right_on = 'Player_Name', how = 'outer')"
   ]
  },
  {
   "cell_type": "code",
   "execution_count": 366,
   "metadata": {},
   "outputs": [
    {
     "data": {
      "text/html": [
       "<div>\n",
       "<style scoped>\n",
       "    .dataframe tbody tr th:only-of-type {\n",
       "        vertical-align: middle;\n",
       "    }\n",
       "\n",
       "    .dataframe tbody tr th {\n",
       "        vertical-align: top;\n",
       "    }\n",
       "\n",
       "    .dataframe thead th {\n",
       "        text-align: right;\n",
       "    }\n",
       "</style>\n",
       "<table border=\"1\" class=\"dataframe\">\n",
       "  <thead>\n",
       "    <tr style=\"text-align: right;\">\n",
       "      <th></th>\n",
       "      <th>Match_SK</th>\n",
       "      <th>match_id</th>\n",
       "      <th>Team1</th>\n",
       "      <th>Team2</th>\n",
       "      <th>match_date</th>\n",
       "      <th>Season_Year</th>\n",
       "      <th>Venue_Name</th>\n",
       "      <th>City_Name</th>\n",
       "      <th>Country_Name_x</th>\n",
       "      <th>Toss_Winner</th>\n",
       "      <th>...</th>\n",
       "      <th>Win_Margin</th>\n",
       "      <th>Country_id</th>\n",
       "      <th>PLAYER_SK</th>\n",
       "      <th>Player_Id</th>\n",
       "      <th>Player_Name</th>\n",
       "      <th>DOB</th>\n",
       "      <th>Batting_hand</th>\n",
       "      <th>Bowling_skill</th>\n",
       "      <th>Country_Name_y</th>\n",
       "      <th>Country_Code</th>\n",
       "    </tr>\n",
       "  </thead>\n",
       "  <tbody>\n",
       "    <tr>\n",
       "      <th>0</th>\n",
       "      <td>546.0</td>\n",
       "      <td>980964.0</td>\n",
       "      <td>Royal Challengers Bangalore</td>\n",
       "      <td>Kolkata Knight Riders</td>\n",
       "      <td>2016-05-02</td>\n",
       "      <td>2016.0</td>\n",
       "      <td>M Chinnaswamy Stadium</td>\n",
       "      <td>Bangalore</td>\n",
       "      <td>India</td>\n",
       "      <td>Kolkata Knight Riders</td>\n",
       "      <td>...</td>\n",
       "      <td>5.0</td>\n",
       "      <td>1.0</td>\n",
       "      <td>333.0</td>\n",
       "      <td>334.0</td>\n",
       "      <td>AD Russell</td>\n",
       "      <td>1988-04-29</td>\n",
       "      <td>Right-hand bat</td>\n",
       "      <td>Right-arm fast</td>\n",
       "      <td>West Indies</td>\n",
       "      <td>TTO</td>\n",
       "    </tr>\n",
       "    <tr>\n",
       "      <th>1</th>\n",
       "      <td>548.0</td>\n",
       "      <td>980968.0</td>\n",
       "      <td>Kolkata Knight Riders</td>\n",
       "      <td>Kings XI Punjab</td>\n",
       "      <td>2016-05-04</td>\n",
       "      <td>2016.0</td>\n",
       "      <td>Eden Gardens</td>\n",
       "      <td>Kolkata</td>\n",
       "      <td>India</td>\n",
       "      <td>Kings XI Punjab</td>\n",
       "      <td>...</td>\n",
       "      <td>7.0</td>\n",
       "      <td>1.0</td>\n",
       "      <td>333.0</td>\n",
       "      <td>334.0</td>\n",
       "      <td>AD Russell</td>\n",
       "      <td>1988-04-29</td>\n",
       "      <td>Right-hand bat</td>\n",
       "      <td>Right-arm fast</td>\n",
       "      <td>West Indies</td>\n",
       "      <td>TTO</td>\n",
       "    </tr>\n",
       "    <tr>\n",
       "      <th>2</th>\n",
       "      <td>467.0</td>\n",
       "      <td>829728.0</td>\n",
       "      <td>Kolkata Knight Riders</td>\n",
       "      <td>Chennai Super Kings</td>\n",
       "      <td>2015-04-30</td>\n",
       "      <td>2015.0</td>\n",
       "      <td>Eden Gardens</td>\n",
       "      <td>Kolkata</td>\n",
       "      <td>India</td>\n",
       "      <td>Kolkata Knight Riders</td>\n",
       "      <td>...</td>\n",
       "      <td>7.0</td>\n",
       "      <td>1.0</td>\n",
       "      <td>333.0</td>\n",
       "      <td>334.0</td>\n",
       "      <td>AD Russell</td>\n",
       "      <td>1988-04-29</td>\n",
       "      <td>Right-hand bat</td>\n",
       "      <td>Right-arm fast</td>\n",
       "      <td>West Indies</td>\n",
       "      <td>TTO</td>\n",
       "    </tr>\n",
       "    <tr>\n",
       "      <th>3</th>\n",
       "      <td>472.0</td>\n",
       "      <td>829738.0</td>\n",
       "      <td>Kings XI Punjab</td>\n",
       "      <td>Kolkata Knight Riders</td>\n",
       "      <td>2015-04-18</td>\n",
       "      <td>2015.0</td>\n",
       "      <td>Maharashtra Cricket Association Stadium</td>\n",
       "      <td>Pune</td>\n",
       "      <td>India</td>\n",
       "      <td>Kolkata Knight Riders</td>\n",
       "      <td>...</td>\n",
       "      <td>4.0</td>\n",
       "      <td>1.0</td>\n",
       "      <td>333.0</td>\n",
       "      <td>334.0</td>\n",
       "      <td>AD Russell</td>\n",
       "      <td>1988-04-29</td>\n",
       "      <td>Right-hand bat</td>\n",
       "      <td>Right-arm fast</td>\n",
       "      <td>West Indies</td>\n",
       "      <td>TTO</td>\n",
       "    </tr>\n",
       "    <tr>\n",
       "      <th>4</th>\n",
       "      <td>500.0</td>\n",
       "      <td>829796.0</td>\n",
       "      <td>Kolkata Knight Riders</td>\n",
       "      <td>Kings XI Punjab</td>\n",
       "      <td>2015-05-09</td>\n",
       "      <td>2015.0</td>\n",
       "      <td>Eden Gardens</td>\n",
       "      <td>Kolkata</td>\n",
       "      <td>India</td>\n",
       "      <td>Kings XI Punjab</td>\n",
       "      <td>...</td>\n",
       "      <td>1.0</td>\n",
       "      <td>1.0</td>\n",
       "      <td>333.0</td>\n",
       "      <td>334.0</td>\n",
       "      <td>AD Russell</td>\n",
       "      <td>1988-04-29</td>\n",
       "      <td>Right-hand bat</td>\n",
       "      <td>Right-arm fast</td>\n",
       "      <td>West Indies</td>\n",
       "      <td>TTO</td>\n",
       "    </tr>\n",
       "  </tbody>\n",
       "</table>\n",
       "<p>5 rows × 25 columns</p>\n",
       "</div>"
      ],
      "text/plain": [
       "   Match_SK  match_id                        Team1                  Team2  \\\n",
       "0     546.0  980964.0  Royal Challengers Bangalore  Kolkata Knight Riders   \n",
       "1     548.0  980968.0        Kolkata Knight Riders        Kings XI Punjab   \n",
       "2     467.0  829728.0        Kolkata Knight Riders    Chennai Super Kings   \n",
       "3     472.0  829738.0              Kings XI Punjab  Kolkata Knight Riders   \n",
       "4     500.0  829796.0        Kolkata Knight Riders        Kings XI Punjab   \n",
       "\n",
       "  match_date  Season_Year                               Venue_Name  City_Name  \\\n",
       "0 2016-05-02       2016.0                    M Chinnaswamy Stadium  Bangalore   \n",
       "1 2016-05-04       2016.0                             Eden Gardens    Kolkata   \n",
       "2 2015-04-30       2015.0                             Eden Gardens    Kolkata   \n",
       "3 2015-04-18       2015.0  Maharashtra Cricket Association Stadium       Pune   \n",
       "4 2015-05-09       2015.0                             Eden Gardens    Kolkata   \n",
       "\n",
       "  Country_Name_x            Toss_Winner     ...      Win_Margin Country_id  \\\n",
       "0          India  Kolkata Knight Riders     ...             5.0        1.0   \n",
       "1          India        Kings XI Punjab     ...             7.0        1.0   \n",
       "2          India  Kolkata Knight Riders     ...             7.0        1.0   \n",
       "3          India  Kolkata Knight Riders     ...             4.0        1.0   \n",
       "4          India        Kings XI Punjab     ...             1.0        1.0   \n",
       "\n",
       "  PLAYER_SK Player_Id Player_Name        DOB    Batting_hand   Bowling_skill  \\\n",
       "0     333.0     334.0  AD Russell 1988-04-29  Right-hand bat  Right-arm fast   \n",
       "1     333.0     334.0  AD Russell 1988-04-29  Right-hand bat  Right-arm fast   \n",
       "2     333.0     334.0  AD Russell 1988-04-29  Right-hand bat  Right-arm fast   \n",
       "3     333.0     334.0  AD Russell 1988-04-29  Right-hand bat  Right-arm fast   \n",
       "4     333.0     334.0  AD Russell 1988-04-29  Right-hand bat  Right-arm fast   \n",
       "\n",
       "   Country_Name_y Country_Code  \n",
       "0     West Indies          TTO  \n",
       "1     West Indies          TTO  \n",
       "2     West Indies          TTO  \n",
       "3     West Indies          TTO  \n",
       "4     West Indies          TTO  \n",
       "\n",
       "[5 rows x 25 columns]"
      ]
     },
     "execution_count": 366,
     "metadata": {},
     "output_type": "execute_result"
    }
   ],
   "source": [
    "mom.head()"
   ]
  },
  {
   "cell_type": "code",
   "execution_count": 367,
   "metadata": {},
   "outputs": [
    {
     "data": {
      "text/plain": [
       "Country_Name_y\n",
       "Afghanistan       3\n",
       "Australia       159\n",
       "Bangladesh        6\n",
       "England          20\n",
       "India           504\n",
       "Netherlands       1\n",
       "New Zealand      34\n",
       "Pakistan         15\n",
       "South Africa     83\n",
       "Sri Lanka        34\n",
       "West Indies      67\n",
       "Zimbabwea         2\n",
       "dtype: int64"
      ]
     },
     "execution_count": 367,
     "metadata": {},
     "output_type": "execute_result"
    }
   ],
   "source": [
    "#countrys containing total man of the matches\n",
    "np.mom_country = mom.groupby('Country_Name_y').size()\n",
    "np.mom_country"
   ]
  },
  {
   "cell_type": "code",
   "execution_count": 368,
   "metadata": {},
   "outputs": [],
   "source": [
    "#Man of the Matches each season group by country\n",
    "year_mom = mom.groupby(['Season_Year']).Country_Name_y.value_counts().reset_index(name = 'count')"
   ]
  },
  {
   "cell_type": "code",
   "execution_count": 369,
   "metadata": {},
   "outputs": [
    {
     "data": {
      "text/html": [
       "<div>\n",
       "<style scoped>\n",
       "    .dataframe tbody tr th:only-of-type {\n",
       "        vertical-align: middle;\n",
       "    }\n",
       "\n",
       "    .dataframe tbody tr th {\n",
       "        vertical-align: top;\n",
       "    }\n",
       "\n",
       "    .dataframe thead th {\n",
       "        text-align: right;\n",
       "    }\n",
       "</style>\n",
       "<table border=\"1\" class=\"dataframe\">\n",
       "  <thead>\n",
       "    <tr style=\"text-align: right;\">\n",
       "      <th></th>\n",
       "      <th>Season_Year</th>\n",
       "      <th>Country_Name_y</th>\n",
       "      <th>count</th>\n",
       "    </tr>\n",
       "  </thead>\n",
       "  <tbody>\n",
       "    <tr>\n",
       "      <th>0</th>\n",
       "      <td>2008.0</td>\n",
       "      <td>India</td>\n",
       "      <td>23</td>\n",
       "    </tr>\n",
       "    <tr>\n",
       "      <th>1</th>\n",
       "      <td>2008.0</td>\n",
       "      <td>Australia</td>\n",
       "      <td>16</td>\n",
       "    </tr>\n",
       "    <tr>\n",
       "      <th>2</th>\n",
       "      <td>2008.0</td>\n",
       "      <td>South Africa</td>\n",
       "      <td>7</td>\n",
       "    </tr>\n",
       "    <tr>\n",
       "      <th>3</th>\n",
       "      <td>2008.0</td>\n",
       "      <td>Sri Lanka</td>\n",
       "      <td>5</td>\n",
       "    </tr>\n",
       "    <tr>\n",
       "      <th>4</th>\n",
       "      <td>2008.0</td>\n",
       "      <td>Pakistan</td>\n",
       "      <td>4</td>\n",
       "    </tr>\n",
       "  </tbody>\n",
       "</table>\n",
       "</div>"
      ],
      "text/plain": [
       "   Season_Year Country_Name_y  count\n",
       "0       2008.0          India     23\n",
       "1       2008.0      Australia     16\n",
       "2       2008.0   South Africa      7\n",
       "3       2008.0      Sri Lanka      5\n",
       "4       2008.0       Pakistan      4"
      ]
     },
     "execution_count": 369,
     "metadata": {},
     "output_type": "execute_result"
    }
   ],
   "source": [
    "year_mom.head()"
   ]
  },
  {
   "cell_type": "code",
   "execution_count": 370,
   "metadata": {},
   "outputs": [],
   "source": [
    "mom_Country_list_2008=year_mom['Country_Name_y'].where(year_mom['Season_Year'] == 2008).dropna().tolist()\n",
    "mom_Count_list_2008=year_mom['count'].where(year_mom['Season_Year'] == 2008).dropna().tolist()\n",
    "mom_Country_list_2009=year_mom['Country_Name_y'].where(year_mom['Season_Year'] == 2009).dropna().tolist()\n",
    "mom_Count_list_2009=year_mom['count'].where(year_mom['Season_Year'] == 2009).dropna().tolist()\n",
    "mom_Country_list_2010=year_mom['Country_Name_y'].where(year_mom['Season_Year'] == 2010).dropna().tolist()\n",
    "mom_Count_list_2010=year_mom['count'].where(year_mom['Season_Year'] == 2010).dropna().tolist()\n",
    "mom_Country_list_2011=year_mom['Country_Name_y'].where(year_mom['Season_Year'] == 2011).dropna().tolist()\n",
    "mom_Count_list_2011=year_mom['count'].where(year_mom['Season_Year'] == 2011).dropna().tolist()\n",
    "mom_Country_list_2012=year_mom['Country_Name_y'].where(year_mom['Season_Year'] == 2012).dropna().tolist()\n",
    "mom_Count_list_2012=year_mom['count'].where(year_mom['Season_Year'] == 2012).dropna().tolist()\n",
    "mom_Country_list_2013=year_mom['Country_Name_y'].where(year_mom['Season_Year'] == 2013).dropna().tolist()\n",
    "mom_Count_list_2013=year_mom['count'].where(year_mom['Season_Year'] == 2013).dropna().tolist()\n",
    "mom_Country_list_2014=year_mom['Country_Name_y'].where(year_mom['Season_Year'] == 2014).dropna().tolist()\n",
    "mom_Count_list_2014=year_mom['count'].where(year_mom['Season_Year'] == 2014).dropna().tolist()\n",
    "mom_Country_list_2015=year_mom['Country_Name_y'].where(year_mom['Season_Year'] == 2015).dropna().tolist()\n",
    "mom_Count_list_2015=year_mom['count'].where(year_mom['Season_Year'] == 2015).dropna().tolist()\n",
    "mom_Country_list_2016=year_mom['Country_Name_y'].where(year_mom['Season_Year'] == 2016).dropna().tolist()\n",
    "mom_Count_list_2016=year_mom['count'].where(year_mom['Season_Year'] == 2016).dropna().tolist()\n",
    "mom_Country_list_2017=year_mom['Country_Name_y'].where(year_mom['Season_Year'] == 2017).dropna().tolist()\n",
    "mom_Count_list_2017=year_mom['count'].where(year_mom['Season_Year'] == 2017).dropna().tolist()\n"
   ]
  },
  {
   "cell_type": "code",
   "execution_count": 371,
   "metadata": {},
   "outputs": [],
   "source": [
    "trace_2008 = go.Scatter(x=mom_Country_list_2008,\n",
    "                        y=mom_Count_list_2008,\n",
    "                        name='2009',\n",
    "                        line=dict(color='#33CFA5'))\n",
    "\n",
    "trace_2009 = go.Scatter(x=mom_Country_list_2009,\n",
    "                        y=mom_Count_list_2009,\n",
    "                        name='2009',\n",
    "                        line=dict(color='#DC143C'))\n",
    "\n",
    "trace_2010 = go.Scatter(x=mom_Country_list_2010,\n",
    "                        y=mom_Count_list_2010,\n",
    "                        name='2010',\n",
    "                        line=dict(color='#FFD700'))\n",
    "\n",
    "trace_2011 = go.Scatter(x=mom_Country_list_2011,\n",
    "                        y=mom_Count_list_2011,\n",
    "                        name='2011',\n",
    "                        line=dict(color='#000080'))\n",
    "\n",
    "trace_2012 = go.Scatter(x=mom_Country_list_2012,\n",
    "                        y=mom_Count_list_2012,\n",
    "                        name='2012',\n",
    "                        line=dict(color='#BA55D3'))\n",
    "\n",
    "trace_2013 = go.Scatter(x=mom_Country_list_2013,\n",
    "                        y=mom_Count_list_2013,\n",
    "                        name='2013',\n",
    "                        line=dict(color='#33CFA5'))\n",
    "\n",
    "trace_2014 = go.Scatter(x=mom_Country_list_2014,\n",
    "                        y=mom_Count_list_2014,\n",
    "                        name='2014',\n",
    "                        line=dict(color='#DC143C'))\n",
    "\n",
    "trace_2015 = go.Scatter(x=mom_Country_list_2015,\n",
    "                        y=mom_Count_list_2015,\n",
    "                        name='2015',\n",
    "                        line=dict(color='#FFD700'))\n",
    "\n",
    "trace_2016 = go.Scatter(x=mom_Country_list_2016,\n",
    "                        y=mom_Count_list_2016,\n",
    "                        name='2016',\n",
    "                        line=dict(color='#000080'))\n",
    "\n",
    "trace_2017 = go.Scatter(x=mom_Country_list_2017,\n",
    "                        y=mom_Count_list_2017,\n",
    "                        name='2017',\n",
    "                        line=dict(color='#BA55D3'))\n",
    "\n",
    "\n"
   ]
  },
  {
   "cell_type": "code",
   "execution_count": 379,
   "metadata": {
    "scrolled": false
   },
   "outputs": [
    {
     "data": {
      "application/vnd.plotly.v1+json": {
       "config": {
        "linkText": "Export to plot.ly",
        "plotlyServerURL": "https://plot.ly",
        "showLink": true
       },
       "data": [
        {
         "line": {
          "color": "#33CFA5"
         },
         "name": "2009",
         "type": "scatter",
         "uid": "e9ceec1a-7183-4a6e-ab7d-2be978165a04",
         "x": [
          "India",
          "Australia",
          "South Africa",
          "Sri Lanka",
          "Pakistan",
          "New Zealand",
          "West Indies"
         ],
         "y": [
          23,
          16,
          7,
          5,
          4,
          2,
          1
         ]
        },
        {
         "line": {
          "color": "#DC143C"
         },
         "name": "2009",
         "type": "scatter",
         "uid": "beaf92ed-b60a-4278-a456-27d62379fc6d",
         "x": [
          "India",
          "South Africa",
          "Australia",
          "Sri Lanka",
          "New Zealand",
          "West Indies",
          "England"
         ],
         "y": [
          27,
          9,
          8,
          7,
          3,
          2,
          1
         ]
        },
        {
         "line": {
          "color": "#FFD700"
         },
         "name": "2010",
         "type": "scatter",
         "uid": "9e49a9bc-86b0-4ba7-92cd-ff2e869caa41",
         "x": [
          "India",
          "Australia",
          "South Africa",
          "Sri Lanka",
          "England",
          "West Indies"
         ],
         "y": [
          35,
          9,
          7,
          5,
          2,
          2
         ]
        },
        {
         "line": {
          "color": "#000080"
         },
         "name": "2011",
         "type": "scatter",
         "uid": "e3f9e7be-2cb4-4e11-9e4b-8f64df370af5",
         "x": [
          "India",
          "Australia",
          "West Indies",
          "South Africa",
          "New Zealand",
          "Sri Lanka"
         ],
         "y": [
          40,
          13,
          7,
          5,
          4,
          3
         ]
        },
        {
         "line": {
          "color": "#BA55D3"
         },
         "name": "2012",
         "type": "scatter",
         "uid": "ddad93e7-917f-4eff-948f-35ce1786a2f7",
         "x": [
          "India",
          "Australia",
          "South Africa",
          "West Indies",
          "Sri Lanka",
          "Bangladesh",
          "England",
          "New Zealand",
          "Pakistan"
         ],
         "y": [
          29,
          13,
          12,
          12,
          3,
          2,
          1,
          1,
          1
         ]
        },
        {
         "line": {
          "color": "#33CFA5"
         },
         "name": "2013",
         "type": "scatter",
         "uid": "d13d6730-eb75-4c04-9746-7e226acc7300",
         "x": [
          "India",
          "Australia",
          "West Indies",
          "South Africa",
          "England",
          "Pakistan"
         ],
         "y": [
          42,
          15,
          11,
          6,
          1,
          1
         ]
        },
        {
         "line": {
          "color": "#DC143C"
         },
         "name": "2014",
         "type": "scatter",
         "uid": "b561d37c-da59-48fe-8484-886b4df6fd81",
         "x": [
          "India",
          "Australia",
          "South Africa",
          "West Indies",
          "New Zealand"
         ],
         "y": [
          36,
          13,
          5,
          4,
          2
         ]
        },
        {
         "line": {
          "color": "#FFD700"
         },
         "name": "2015",
         "type": "scatter",
         "uid": "852b1614-8622-445f-951b-97d01684dff2",
         "x": [
          "India",
          "Australia",
          "West Indies",
          "New Zealand",
          "South Africa",
          "England",
          "Sri Lanka"
         ],
         "y": [
          28,
          11,
          8,
          4,
          4,
          1,
          1
         ]
        },
        {
         "line": {
          "color": "#000080"
         },
         "name": "2016",
         "type": "scatter",
         "uid": "3d6ccce9-ab5a-4f01-b692-ee9d89ea8a1f",
         "x": [
          "India",
          "Australia",
          "South Africa",
          "West Indies",
          "Bangladesh"
         ],
         "y": [
          33,
          12,
          8,
          6,
          1
         ]
        },
        {
         "line": {
          "color": "#BA55D3"
         },
         "name": "2017",
         "type": "scatter",
         "uid": "db3197ae-0034-467d-b15e-484a507f867a",
         "x": [
          "India",
          "Australia",
          "West Indies",
          "England",
          "New Zealand",
          "Afghanistan",
          "South Africa"
         ],
         "y": [
          33,
          8,
          5,
          4,
          4,
          2,
          1
         ]
        }
       ],
       "layout": {
        "showlegend": false,
        "title": "Man Of the Match for IPL 2008-2017",
        "updatemenus": [
         {
          "active": -1,
          "buttons": [
           {
            "args": [
             {
              "visible": [
               true,
               false,
               false,
               false,
               false,
               false,
               false,
               false,
               false,
               false
              ]
             },
             {
              "title": "Man of the Matches in year 2008 for IPL"
             }
            ],
            "label": "2008",
            "method": "update"
           },
           {
            "args": [
             {
              "visible": [
               false,
               true,
               false,
               false,
               false,
               false,
               false,
               false,
               false,
               false
              ]
             },
             {
              "title": "Man of the Matches in year 2009 for IPL"
             }
            ],
            "label": "2009",
            "method": "update"
           },
           {
            "args": [
             {
              "visible": [
               false,
               false,
               true,
               false,
               false,
               false,
               false,
               false,
               false,
               false
              ]
             },
             {
              "title": "Man of the Matches in year 2010 for IPL"
             }
            ],
            "label": "2010",
            "method": "update"
           },
           {
            "args": [
             {
              "visible": [
               false,
               false,
               false,
               true,
               false,
               false,
               false,
               false,
               false,
               false
              ]
             },
             {
              "title": "Man of the Matches in year 2011 for IPL"
             }
            ],
            "label": "2011",
            "method": "update"
           },
           {
            "args": [
             {
              "visible": [
               false,
               false,
               false,
               false,
               true,
               false,
               false,
               false,
               false,
               false
              ]
             },
             {
              "title": "Man of the Matches in year 2012 for IPL"
             }
            ],
            "label": "2012",
            "method": "update"
           },
           {
            "args": [
             {
              "visible": [
               false,
               false,
               false,
               false,
               false,
               true,
               false,
               false,
               false,
               false
              ]
             },
             {
              "title": "Man of the Matches in year 2013 for IPL"
             }
            ],
            "label": "2013",
            "method": "update"
           },
           {
            "args": [
             {
              "visible": [
               false,
               false,
               false,
               false,
               false,
               false,
               true,
               false,
               false,
               false
              ]
             },
             {
              "title": "Man of the Matches in year 2014 for IPL"
             }
            ],
            "label": "2014",
            "method": "update"
           },
           {
            "args": [
             {
              "visible": [
               false,
               false,
               false,
               false,
               false,
               false,
               false,
               true,
               false,
               false
              ]
             },
             {
              "title": "Man of the Matches in year 2015 for IPL"
             }
            ],
            "label": "2015",
            "method": "update"
           },
           {
            "args": [
             {
              "visible": [
               false,
               false,
               false,
               false,
               false,
               false,
               false,
               false,
               true,
               false
              ]
             },
             {
              "title": "Man of the Matches in year 2016 for IPL"
             }
            ],
            "label": "2016",
            "method": "update"
           },
           {
            "args": [
             {
              "visible": [
               false,
               false,
               false,
               false,
               false,
               false,
               false,
               false,
               false,
               true
              ]
             },
             {
              "title": "Man of the Matches in year 2017 for IPL"
             }
            ],
            "label": "2017",
            "method": "update"
           }
          ]
         }
        ],
        "yaxis": {
         "title": "Number of Players"
        }
       }
      },
      "text/html": [
       "<div id=\"52f7ccca-decd-4985-89cb-304f9b90b098\" style=\"height: 525px; width: 100%;\" class=\"plotly-graph-div\"></div><script type=\"text/javascript\">require([\"plotly\"], function(Plotly) { window.PLOTLYENV=window.PLOTLYENV || {};window.PLOTLYENV.BASE_URL=\"https://plot.ly\";Plotly.newPlot(\"52f7ccca-decd-4985-89cb-304f9b90b098\", [{\"line\": {\"color\": \"#33CFA5\"}, \"name\": \"2009\", \"x\": [\"India\", \"Australia\", \"South Africa\", \"Sri Lanka\", \"Pakistan\", \"New Zealand\", \"West Indies\"], \"y\": [23.0, 16.0, 7.0, 5.0, 4.0, 2.0, 1.0], \"type\": \"scatter\", \"uid\": \"534dda9a-eb6d-43f8-b6a6-711e4dd37fc9\"}, {\"line\": {\"color\": \"#DC143C\"}, \"name\": \"2009\", \"x\": [\"India\", \"South Africa\", \"Australia\", \"Sri Lanka\", \"New Zealand\", \"West Indies\", \"England\"], \"y\": [27.0, 9.0, 8.0, 7.0, 3.0, 2.0, 1.0], \"type\": \"scatter\", \"uid\": \"a8220506-455a-48ab-a246-0600cf1857bc\"}, {\"line\": {\"color\": \"#FFD700\"}, \"name\": \"2010\", \"x\": [\"India\", \"Australia\", \"South Africa\", \"Sri Lanka\", \"England\", \"West Indies\"], \"y\": [35.0, 9.0, 7.0, 5.0, 2.0, 2.0], \"type\": \"scatter\", \"uid\": \"72336ecc-541a-480b-b5cb-6ef9671101e8\"}, {\"line\": {\"color\": \"#000080\"}, \"name\": \"2011\", \"x\": [\"India\", \"Australia\", \"West Indies\", \"South Africa\", \"New Zealand\", \"Sri Lanka\"], \"y\": [40.0, 13.0, 7.0, 5.0, 4.0, 3.0], \"type\": \"scatter\", \"uid\": \"2eee4d54-5a6c-467b-a7c8-f86d82ae63f8\"}, {\"line\": {\"color\": \"#BA55D3\"}, \"name\": \"2012\", \"x\": [\"India\", \"Australia\", \"South Africa\", \"West Indies\", \"Sri Lanka\", \"Bangladesh\", \"England\", \"New Zealand\", \"Pakistan\"], \"y\": [29.0, 13.0, 12.0, 12.0, 3.0, 2.0, 1.0, 1.0, 1.0], \"type\": \"scatter\", \"uid\": \"9c0f107e-b0fd-46d6-8b98-55360c543f78\"}, {\"line\": {\"color\": \"#33CFA5\"}, \"name\": \"2013\", \"x\": [\"India\", \"Australia\", \"West Indies\", \"South Africa\", \"England\", \"Pakistan\"], \"y\": [42.0, 15.0, 11.0, 6.0, 1.0, 1.0], \"type\": \"scatter\", \"uid\": \"51e3408c-6938-42ed-ba19-cdc4ae26f123\"}, {\"line\": {\"color\": \"#DC143C\"}, \"name\": \"2014\", \"x\": [\"India\", \"Australia\", \"South Africa\", \"West Indies\", \"New Zealand\"], \"y\": [36.0, 13.0, 5.0, 4.0, 2.0], \"type\": \"scatter\", \"uid\": \"1eab6307-5c32-4863-9596-aa5e28dcaf4f\"}, {\"line\": {\"color\": \"#FFD700\"}, \"name\": \"2015\", \"x\": [\"India\", \"Australia\", \"West Indies\", \"New Zealand\", \"South Africa\", \"England\", \"Sri Lanka\"], \"y\": [28.0, 11.0, 8.0, 4.0, 4.0, 1.0, 1.0], \"type\": \"scatter\", \"uid\": \"4cff3efe-7c3e-4de1-b99a-550f51de1e1e\"}, {\"line\": {\"color\": \"#000080\"}, \"name\": \"2016\", \"x\": [\"India\", \"Australia\", \"South Africa\", \"West Indies\", \"Bangladesh\"], \"y\": [33.0, 12.0, 8.0, 6.0, 1.0], \"type\": \"scatter\", \"uid\": \"a0d164a6-a5c5-4521-aa16-ae6379845d0c\"}, {\"line\": {\"color\": \"#BA55D3\"}, \"name\": \"2017\", \"x\": [\"India\", \"Australia\", \"West Indies\", \"England\", \"New Zealand\", \"Afghanistan\", \"South Africa\"], \"y\": [33.0, 8.0, 5.0, 4.0, 4.0, 2.0, 1.0], \"type\": \"scatter\", \"uid\": \"8b767894-a26e-4d43-9e2d-95a5b8556a78\"}], {\"showlegend\": false, \"title\": \"Man Of the Match for IPL 2008-2017\", \"updatemenus\": [{\"active\": -1, \"buttons\": [{\"args\": [{\"visible\": [true, false, false, false, false, false, false, false, false, false]}, {\"title\": \"Man of the Matches in year 2008 for IPL\"}], \"label\": \"2008\", \"method\": \"update\"}, {\"args\": [{\"visible\": [false, true, false, false, false, false, false, false, false, false]}, {\"title\": \"Man of the Matches in year 2009 for IPL\"}], \"label\": \"2009\", \"method\": \"update\"}, {\"args\": [{\"visible\": [false, false, true, false, false, false, false, false, false, false]}, {\"title\": \"Man of the Matches in year 2010 for IPL\"}], \"label\": \"2010\", \"method\": \"update\"}, {\"args\": [{\"visible\": [false, false, false, true, false, false, false, false, false, false]}, {\"title\": \"Man of the Matches in year 2011 for IPL\"}], \"label\": \"2011\", \"method\": \"update\"}, {\"args\": [{\"visible\": [false, false, false, false, true, false, false, false, false, false]}, {\"title\": \"Man of the Matches in year 2012 for IPL\"}], \"label\": \"2012\", \"method\": \"update\"}, {\"args\": [{\"visible\": [false, false, false, false, false, true, false, false, false, false]}, {\"title\": \"Man of the Matches in year 2013 for IPL\"}], \"label\": \"2013\", \"method\": \"update\"}, {\"args\": [{\"visible\": [false, false, false, false, false, false, true, false, false, false]}, {\"title\": \"Man of the Matches in year 2014 for IPL\"}], \"label\": \"2014\", \"method\": \"update\"}, {\"args\": [{\"visible\": [false, false, false, false, false, false, false, true, false, false]}, {\"title\": \"Man of the Matches in year 2015 for IPL\"}], \"label\": \"2015\", \"method\": \"update\"}, {\"args\": [{\"visible\": [false, false, false, false, false, false, false, false, true, false]}, {\"title\": \"Man of the Matches in year 2016 for IPL\"}], \"label\": \"2016\", \"method\": \"update\"}, {\"args\": [{\"visible\": [false, false, false, false, false, false, false, false, false, true]}, {\"title\": \"Man of the Matches in year 2017 for IPL\"}], \"label\": \"2017\", \"method\": \"update\"}]}], \"yaxis\": {\"title\": \"Number of Players\"}}, {\"showLink\": true, \"linkText\": \"Export to plot.ly\", \"plotlyServerURL\": \"https://plot.ly\"})});</script><script type=\"text/javascript\">window.addEventListener(\"resize\", function(){window._Plotly.Plots.resize(document.getElementById(\"52f7ccca-decd-4985-89cb-304f9b90b098\"));});</script>"
      ],
      "text/vnd.plotly.v1+html": [
       "<div id=\"52f7ccca-decd-4985-89cb-304f9b90b098\" style=\"height: 525px; width: 100%;\" class=\"plotly-graph-div\"></div><script type=\"text/javascript\">require([\"plotly\"], function(Plotly) { window.PLOTLYENV=window.PLOTLYENV || {};window.PLOTLYENV.BASE_URL=\"https://plot.ly\";Plotly.newPlot(\"52f7ccca-decd-4985-89cb-304f9b90b098\", [{\"line\": {\"color\": \"#33CFA5\"}, \"name\": \"2009\", \"x\": [\"India\", \"Australia\", \"South Africa\", \"Sri Lanka\", \"Pakistan\", \"New Zealand\", \"West Indies\"], \"y\": [23.0, 16.0, 7.0, 5.0, 4.0, 2.0, 1.0], \"type\": \"scatter\", \"uid\": \"534dda9a-eb6d-43f8-b6a6-711e4dd37fc9\"}, {\"line\": {\"color\": \"#DC143C\"}, \"name\": \"2009\", \"x\": [\"India\", \"South Africa\", \"Australia\", \"Sri Lanka\", \"New Zealand\", \"West Indies\", \"England\"], \"y\": [27.0, 9.0, 8.0, 7.0, 3.0, 2.0, 1.0], \"type\": \"scatter\", \"uid\": \"a8220506-455a-48ab-a246-0600cf1857bc\"}, {\"line\": {\"color\": \"#FFD700\"}, \"name\": \"2010\", \"x\": [\"India\", \"Australia\", \"South Africa\", \"Sri Lanka\", \"England\", \"West Indies\"], \"y\": [35.0, 9.0, 7.0, 5.0, 2.0, 2.0], \"type\": \"scatter\", \"uid\": \"72336ecc-541a-480b-b5cb-6ef9671101e8\"}, {\"line\": {\"color\": \"#000080\"}, \"name\": \"2011\", \"x\": [\"India\", \"Australia\", \"West Indies\", \"South Africa\", \"New Zealand\", \"Sri Lanka\"], \"y\": [40.0, 13.0, 7.0, 5.0, 4.0, 3.0], \"type\": \"scatter\", \"uid\": \"2eee4d54-5a6c-467b-a7c8-f86d82ae63f8\"}, {\"line\": {\"color\": \"#BA55D3\"}, \"name\": \"2012\", \"x\": [\"India\", \"Australia\", \"South Africa\", \"West Indies\", \"Sri Lanka\", \"Bangladesh\", \"England\", \"New Zealand\", \"Pakistan\"], \"y\": [29.0, 13.0, 12.0, 12.0, 3.0, 2.0, 1.0, 1.0, 1.0], \"type\": \"scatter\", \"uid\": \"9c0f107e-b0fd-46d6-8b98-55360c543f78\"}, {\"line\": {\"color\": \"#33CFA5\"}, \"name\": \"2013\", \"x\": [\"India\", \"Australia\", \"West Indies\", \"South Africa\", \"England\", \"Pakistan\"], \"y\": [42.0, 15.0, 11.0, 6.0, 1.0, 1.0], \"type\": \"scatter\", \"uid\": \"51e3408c-6938-42ed-ba19-cdc4ae26f123\"}, {\"line\": {\"color\": \"#DC143C\"}, \"name\": \"2014\", \"x\": [\"India\", \"Australia\", \"South Africa\", \"West Indies\", \"New Zealand\"], \"y\": [36.0, 13.0, 5.0, 4.0, 2.0], \"type\": \"scatter\", \"uid\": \"1eab6307-5c32-4863-9596-aa5e28dcaf4f\"}, {\"line\": {\"color\": \"#FFD700\"}, \"name\": \"2015\", \"x\": [\"India\", \"Australia\", \"West Indies\", \"New Zealand\", \"South Africa\", \"England\", \"Sri Lanka\"], \"y\": [28.0, 11.0, 8.0, 4.0, 4.0, 1.0, 1.0], \"type\": \"scatter\", \"uid\": \"4cff3efe-7c3e-4de1-b99a-550f51de1e1e\"}, {\"line\": {\"color\": \"#000080\"}, \"name\": \"2016\", \"x\": [\"India\", \"Australia\", \"South Africa\", \"West Indies\", \"Bangladesh\"], \"y\": [33.0, 12.0, 8.0, 6.0, 1.0], \"type\": \"scatter\", \"uid\": \"a0d164a6-a5c5-4521-aa16-ae6379845d0c\"}, {\"line\": {\"color\": \"#BA55D3\"}, \"name\": \"2017\", \"x\": [\"India\", \"Australia\", \"West Indies\", \"England\", \"New Zealand\", \"Afghanistan\", \"South Africa\"], \"y\": [33.0, 8.0, 5.0, 4.0, 4.0, 2.0, 1.0], \"type\": \"scatter\", \"uid\": \"8b767894-a26e-4d43-9e2d-95a5b8556a78\"}], {\"showlegend\": false, \"title\": \"Man Of the Match for IPL 2008-2017\", \"updatemenus\": [{\"active\": -1, \"buttons\": [{\"args\": [{\"visible\": [true, false, false, false, false, false, false, false, false, false]}, {\"title\": \"Man of the Matches in year 2008 for IPL\"}], \"label\": \"2008\", \"method\": \"update\"}, {\"args\": [{\"visible\": [false, true, false, false, false, false, false, false, false, false]}, {\"title\": \"Man of the Matches in year 2009 for IPL\"}], \"label\": \"2009\", \"method\": \"update\"}, {\"args\": [{\"visible\": [false, false, true, false, false, false, false, false, false, false]}, {\"title\": \"Man of the Matches in year 2010 for IPL\"}], \"label\": \"2010\", \"method\": \"update\"}, {\"args\": [{\"visible\": [false, false, false, true, false, false, false, false, false, false]}, {\"title\": \"Man of the Matches in year 2011 for IPL\"}], \"label\": \"2011\", \"method\": \"update\"}, {\"args\": [{\"visible\": [false, false, false, false, true, false, false, false, false, false]}, {\"title\": \"Man of the Matches in year 2012 for IPL\"}], \"label\": \"2012\", \"method\": \"update\"}, {\"args\": [{\"visible\": [false, false, false, false, false, true, false, false, false, false]}, {\"title\": \"Man of the Matches in year 2013 for IPL\"}], \"label\": \"2013\", \"method\": \"update\"}, {\"args\": [{\"visible\": [false, false, false, false, false, false, true, false, false, false]}, {\"title\": \"Man of the Matches in year 2014 for IPL\"}], \"label\": \"2014\", \"method\": \"update\"}, {\"args\": [{\"visible\": [false, false, false, false, false, false, false, true, false, false]}, {\"title\": \"Man of the Matches in year 2015 for IPL\"}], \"label\": \"2015\", \"method\": \"update\"}, {\"args\": [{\"visible\": [false, false, false, false, false, false, false, false, true, false]}, {\"title\": \"Man of the Matches in year 2016 for IPL\"}], \"label\": \"2016\", \"method\": \"update\"}, {\"args\": [{\"visible\": [false, false, false, false, false, false, false, false, false, true]}, {\"title\": \"Man of the Matches in year 2017 for IPL\"}], \"label\": \"2017\", \"method\": \"update\"}]}], \"yaxis\": {\"title\": \"Number of Players\"}}, {\"showLink\": true, \"linkText\": \"Export to plot.ly\", \"plotlyServerURL\": \"https://plot.ly\"})});</script><script type=\"text/javascript\">window.addEventListener(\"resize\", function(){window._Plotly.Plots.resize(document.getElementById(\"52f7ccca-decd-4985-89cb-304f9b90b098\"));});</script>"
      ]
     },
     "metadata": {},
     "output_type": "display_data"
    }
   ],
   "source": [
    "data = [trace_2008,trace_2009,trace_2010,trace_2011,trace_2012,trace_2013,trace_2014,trace_2015,trace_2016,trace_2017]\n",
    "\n",
    "\n",
    "\n",
    "updatemenus = list([\n",
    "    dict(active=-1,\n",
    "         buttons=list([   \n",
    "            dict(label = '2008',\n",
    "                 method = 'update',\n",
    "                 args = [{'visible': [True, False, False,False,False, False, False,False,False,False]},\n",
    "                         {'title': 'Man of the Matches in year 2008 for IPL'}]),\n",
    "             dict(label = '2009',\n",
    "                 method = 'update',\n",
    "                 args = [{'visible': [False, True, False,False,False, False, False,False,False,False]},\n",
    "                         {'title': 'Man of the Matches in year 2009 for IPL'}]),\n",
    "             dict(label = '2010',\n",
    "                 method = 'update',\n",
    "                 args = [{'visible': [False, False, True,False,False, False, False,False,False,False]},\n",
    "                         {'title': 'Man of the Matches in year 2010 for IPL'}]),\n",
    "             dict(label = '2011',\n",
    "                 method = 'update',\n",
    "                 args = [{'visible': [False, False, False,True,False, False, False,False,False,False]},\n",
    "                         {'title': 'Man of the Matches in year 2011 for IPL'}]),\n",
    "             dict(label = '2012',\n",
    "                 method = 'update',\n",
    "                 args = [{'visible': [False, False, False,False,True, False, False,False,False,False]},\n",
    "                         {'title': 'Man of the Matches in year 2012 for IPL'}]),\n",
    "             dict(label = '2013',\n",
    "                 method = 'update',\n",
    "                 args = [{'visible': [False, False, False,False,False, True, False,False,False,False]},\n",
    "                         {'title': 'Man of the Matches in year 2013 for IPL'}]),\n",
    "             dict(label = '2014',\n",
    "                 method = 'update',\n",
    "                 args = [{'visible': [False, False, False,False,False, False, True,False,False,False]},\n",
    "                         {'title': 'Man of the Matches in year 2014 for IPL'}]),\n",
    "             dict(label = '2015',\n",
    "                 method = 'update',\n",
    "                 args = [{'visible': [False, False, False,False,False, False, False,True,False,False]},\n",
    "                         {'title': 'Man of the Matches in year 2015 for IPL'}]),\n",
    "             dict(label = '2016',\n",
    "                 method = 'update',\n",
    "                 args = [{'visible': [False, False, False,False,False, False, False,False,True,False]},\n",
    "                         {'title': 'Man of the Matches in year 2016 for IPL'}]),\n",
    "             dict(label = '2017',\n",
    "                 method = 'update',\n",
    "                 args = [{'visible': [False, False, False,False,False, False, False,False,False,True]},\n",
    "                         {'title': 'Man of the Matches in year 2017 for IPL'}])\n",
    "             ]),\n",
    "    )\n",
    "])\n",
    "\n",
    "layout = dict(title='Man Of the Match for IPL 2008-2017', showlegend=False,\n",
    "              updatemenus=updatemenus,\n",
    "                yaxis=dict(\n",
    "        title='Number of Players',\n",
    "    ),)\n",
    "\n",
    "\n",
    "fig = dict(data=data, layout=layout)\n",
    "plotly.offline.iplot(fig, filename='update_dropdown')"
   ]
  },
  {
   "cell_type": "code",
   "execution_count": 373,
   "metadata": {},
   "outputs": [
    {
     "data": {
      "image/png": "[encoded data removed]",
      "text/plain": [
       "<Figure size 432x288 with 1 Axes>"
      ]
     },
     "metadata": {
      "needs_background": "light"
     },
     "output_type": "display_data"
    },
    {
     "data": {
      "image/png": "[encoded data removed]",
      "text/plain": [
       "<Figure size 432x288 with 1 Axes>"
      ]
     },
     "metadata": {
      "needs_background": "light"
     },
     "output_type": "display_data"
    },
    {
     "data": {
      "image/png": "[encoded data removed]",
      "text/plain": [
       "<Figure size 432x288 with 1 Axes>"
      ]
     },
     "metadata": {
      "needs_background": "light"
     },
     "output_type": "display_data"
    },
    {
     "data": {
      "image/png": "[encoded data removed]",
      "text/plain": [
       "<Figure size 432x288 with 1 Axes>"
      ]
     },
     "metadata": {
      "needs_background": "light"
     },
     "output_type": "display_data"
    },
    {
     "data": {
      "image/png": "[encoded data removed]",
      "text/plain": [
       "<Figure size 432x288 with 1 Axes>"
      ]
     },
     "metadata": {
      "needs_background": "light"
     },
     "output_type": "display_data"
    },
    {
     "data": {
      "image/png": "[encoded data removed]",
      "text/plain": [
       "<Figure size 432x288 with 1 Axes>"
      ]
     },
     "metadata": {
      "needs_background": "light"
     },
     "output_type": "display_data"
    },
    {
     "data": {
      "image/png": "[encoded data removed]",
      "text/plain": [
       "<Figure size 432x288 with 1 Axes>"
      ]
     },
     "metadata": {
      "needs_background": "light"
     },
     "output_type": "display_data"
    },
    {
     "data": {
      "image/png": "[encoded data removed]",
      "text/plain": [
       "<Figure size 432x288 with 1 Axes>"
      ]
     },
     "metadata": {
      "needs_background": "light"
     },
     "output_type": "display_data"
    },
    {
     "data": {
      "image/png": "[encoded data removed]",
      "text/plain": [
       "<Figure size 432x288 with 1 Axes>"
      ]
     },
     "metadata": {
      "needs_background": "light"
     },
     "output_type": "display_data"
    },
    {
     "data": {
      "image/png": "[encoded data removed]",
      "text/plain": [
       "<Figure size 432x288 with 1 Axes>"
      ]
     },
     "metadata": {
      "needs_background": "light"
     },
     "output_type": "display_data"
    }
   ],
   "source": [
    "#plot2 ploting the bar graph of each year with man of the matches by country\n",
    "for x in range(2008, 2018, 1):\n",
    "    year_mom_x = year_mom[year_mom['Season_Year'] == x]\n",
    "    plot = sns.barplot(x=\"Country_Name_y\", y=\"count\", data=year_mom_x)\n",
    "    plot.set_title('Man of the Matches won by teams in \\nSeason ' +str(x))\n",
    "    plot.set_xticklabels(year_mom_x['Country_Name_y'],rotation=30)\n",
    "    plt.show()\n",
    "    x+=1\n",
    "    "
   ]
  },
  {
   "cell_type": "code",
   "execution_count": 374,
   "metadata": {},
   "outputs": [
    {
     "data": {
      "text/html": [
       "<div>\n",
       "<style scoped>\n",
       "    .dataframe tbody tr th:only-of-type {\n",
       "        vertical-align: middle;\n",
       "    }\n",
       "\n",
       "    .dataframe tbody tr th {\n",
       "        vertical-align: top;\n",
       "    }\n",
       "\n",
       "    .dataframe thead th {\n",
       "        text-align: right;\n",
       "    }\n",
       "</style>\n",
       "<table border=\"1\" class=\"dataframe\">\n",
       "  <thead>\n",
       "    <tr style=\"text-align: right;\">\n",
       "      <th></th>\n",
       "      <th>Season_Year</th>\n",
       "      <th>Country_Name_y</th>\n",
       "      <th>count</th>\n",
       "    </tr>\n",
       "  </thead>\n",
       "  <tbody>\n",
       "    <tr>\n",
       "      <th>58</th>\n",
       "      <td>2017.0</td>\n",
       "      <td>India</td>\n",
       "      <td>33</td>\n",
       "    </tr>\n",
       "    <tr>\n",
       "      <th>59</th>\n",
       "      <td>2017.0</td>\n",
       "      <td>Australia</td>\n",
       "      <td>8</td>\n",
       "    </tr>\n",
       "    <tr>\n",
       "      <th>60</th>\n",
       "      <td>2017.0</td>\n",
       "      <td>West Indies</td>\n",
       "      <td>5</td>\n",
       "    </tr>\n",
       "    <tr>\n",
       "      <th>61</th>\n",
       "      <td>2017.0</td>\n",
       "      <td>England</td>\n",
       "      <td>4</td>\n",
       "    </tr>\n",
       "    <tr>\n",
       "      <th>62</th>\n",
       "      <td>2017.0</td>\n",
       "      <td>New Zealand</td>\n",
       "      <td>4</td>\n",
       "    </tr>\n",
       "    <tr>\n",
       "      <th>63</th>\n",
       "      <td>2017.0</td>\n",
       "      <td>Afghanistan</td>\n",
       "      <td>2</td>\n",
       "    </tr>\n",
       "    <tr>\n",
       "      <th>64</th>\n",
       "      <td>2017.0</td>\n",
       "      <td>South Africa</td>\n",
       "      <td>1</td>\n",
       "    </tr>\n",
       "  </tbody>\n",
       "</table>\n",
       "</div>"
      ],
      "text/plain": [
       "    Season_Year Country_Name_y  count\n",
       "58       2017.0          India     33\n",
       "59       2017.0      Australia      8\n",
       "60       2017.0    West Indies      5\n",
       "61       2017.0        England      4\n",
       "62       2017.0    New Zealand      4\n",
       "63       2017.0    Afghanistan      2\n",
       "64       2017.0   South Africa      1"
      ]
     },
     "execution_count": 374,
     "metadata": {},
     "output_type": "execute_result"
    }
   ],
   "source": [
    "year_mom_xx"
   ]
  },
  {
   "cell_type": "code",
   "execution_count": 375,
   "metadata": {},
   "outputs": [],
   "source": [
    "#total man of the matches won by respective countrys\n",
    "mom_country = mom.groupby([ 'Country_Code']).Country_Name_y.value_counts().reset_index(name = 'count')"
   ]
  },
  {
   "cell_type": "code",
   "execution_count": 376,
   "metadata": {},
   "outputs": [
    {
     "data": {
      "text/html": [
       "<div>\n",
       "<style scoped>\n",
       "    .dataframe tbody tr th:only-of-type {\n",
       "        vertical-align: middle;\n",
       "    }\n",
       "\n",
       "    .dataframe tbody tr th {\n",
       "        vertical-align: top;\n",
       "    }\n",
       "\n",
       "    .dataframe thead th {\n",
       "        text-align: right;\n",
       "    }\n",
       "</style>\n",
       "<table border=\"1\" class=\"dataframe\">\n",
       "  <thead>\n",
       "    <tr style=\"text-align: right;\">\n",
       "      <th></th>\n",
       "      <th>Country_Code</th>\n",
       "      <th>Country_Name_y</th>\n",
       "      <th>count</th>\n",
       "    </tr>\n",
       "  </thead>\n",
       "  <tbody>\n",
       "    <tr>\n",
       "      <th>0</th>\n",
       "      <td>AFG</td>\n",
       "      <td>Afghanistan</td>\n",
       "      <td>3</td>\n",
       "    </tr>\n",
       "    <tr>\n",
       "      <th>1</th>\n",
       "      <td>AUS</td>\n",
       "      <td>Australia</td>\n",
       "      <td>159</td>\n",
       "    </tr>\n",
       "    <tr>\n",
       "      <th>2</th>\n",
       "      <td>BGD</td>\n",
       "      <td>Bangladesh</td>\n",
       "      <td>6</td>\n",
       "    </tr>\n",
       "    <tr>\n",
       "      <th>3</th>\n",
       "      <td>GBR</td>\n",
       "      <td>England</td>\n",
       "      <td>20</td>\n",
       "    </tr>\n",
       "    <tr>\n",
       "      <th>4</th>\n",
       "      <td>IND</td>\n",
       "      <td>India</td>\n",
       "      <td>504</td>\n",
       "    </tr>\n",
       "    <tr>\n",
       "      <th>5</th>\n",
       "      <td>LKA</td>\n",
       "      <td>Sri Lanka</td>\n",
       "      <td>34</td>\n",
       "    </tr>\n",
       "    <tr>\n",
       "      <th>6</th>\n",
       "      <td>NLD</td>\n",
       "      <td>Netherlands</td>\n",
       "      <td>1</td>\n",
       "    </tr>\n",
       "    <tr>\n",
       "      <th>7</th>\n",
       "      <td>NZL</td>\n",
       "      <td>New Zealand</td>\n",
       "      <td>34</td>\n",
       "    </tr>\n",
       "    <tr>\n",
       "      <th>8</th>\n",
       "      <td>PAK</td>\n",
       "      <td>Pakistan</td>\n",
       "      <td>15</td>\n",
       "    </tr>\n",
       "    <tr>\n",
       "      <th>9</th>\n",
       "      <td>TTO</td>\n",
       "      <td>West Indies</td>\n",
       "      <td>67</td>\n",
       "    </tr>\n",
       "    <tr>\n",
       "      <th>10</th>\n",
       "      <td>ZAF</td>\n",
       "      <td>South Africa</td>\n",
       "      <td>83</td>\n",
       "    </tr>\n",
       "    <tr>\n",
       "      <th>11</th>\n",
       "      <td>ZWE</td>\n",
       "      <td>Zimbabwea</td>\n",
       "      <td>2</td>\n",
       "    </tr>\n",
       "  </tbody>\n",
       "</table>\n",
       "</div>"
      ],
      "text/plain": [
       "   Country_Code Country_Name_y  count\n",
       "0           AFG    Afghanistan      3\n",
       "1           AUS      Australia    159\n",
       "2           BGD     Bangladesh      6\n",
       "3           GBR        England     20\n",
       "4           IND          India    504\n",
       "5           LKA      Sri Lanka     34\n",
       "6           NLD    Netherlands      1\n",
       "7           NZL    New Zealand     34\n",
       "8           PAK       Pakistan     15\n",
       "9           TTO    West Indies     67\n",
       "10          ZAF   South Africa     83\n",
       "11          ZWE      Zimbabwea      2"
      ]
     },
     "execution_count": 376,
     "metadata": {},
     "output_type": "execute_result"
    }
   ],
   "source": [
    "mom_country"
   ]
  },
  {
   "cell_type": "code",
   "execution_count": 377,
   "metadata": {},
   "outputs": [],
   "source": [
    "#plot 3 plotting the data for total man of the matches by country in the world map\n",
    "for col in mom_country.columns:\n",
    "    mom_country[col] = mom_country[col].astype(str)\n",
    "\n"
   ]
  },
  {
   "cell_type": "code",
   "execution_count": 378,
   "metadata": {},
   "outputs": [
    {
     "name": "stderr",
     "output_type": "stream",
     "text": [
      "C:\\Users\\Sabyasachi Modak\\Anaconda3\\lib\\site-packages\\plotly\\offline\\offline.py:621: UserWarning:\n",
      "\n",
      "Your filename `d3-world-map` didn't end with .html. Adding .html to the end of your file.\n",
      "\n"
     ]
    },
    {
     "data": {
      "text/plain": [
       "'file://C:\\\\Users\\\\Sabyasachi Modak\\\\Desktop\\\\Assignment\\\\Data Visulaization\\\\CA682_Final_Assignment\\\\d3-world-map.html'"
      ]
     },
     "execution_count": 378,
     "metadata": {},
     "output_type": "execute_result"
    }
   ],
   "source": [
    "data = [ dict(\n",
    "        type = 'choropleth',\n",
    "        locations = mom_country['Country_Code'],\n",
    "        z = mom_country['count'],\n",
    "        text = 'Country Name : ' + mom_country['Country_Name_y'] + '<br>' + 'Total Number of Man of Matches' + '<br>' + mom_country['count']+'<br>',\n",
    "           colorscale=[[0,\"rgb(5, 10, 172)\"],[0.35,\"rgb(40, 60, 190)\"],[0.5,\"rgb(70, 100, 245)\"],\\\n",
    "            [0.6,\"rgb(90, 120, 245)\"],[0.7,\"rgb(106, 137, 247)\"],[1,\"rgb(220, 220, 220)\"]],\n",
    "        autocolorscale = False,\n",
    "        reversescale = True,\n",
    "        marker = dict(\n",
    "            line = dict (\n",
    "                color = 'rgb(166,206,227)',\n",
    "                width = 0.5\n",
    "            ) ),\n",
    "        colorbar = dict(\n",
    "            autotick = True,\n",
    "            title = 'Man of the Matches'),\n",
    "      ) ]\n",
    "layout = dict(\n",
    "    title = '2008-2017 Man Of Matches of IPL </a>',\n",
    "    geo = dict(\n",
    "        showframe = True,\n",
    "        showcoastlines = True,\n",
    "        projection = dict(\n",
    "            type = 'Mercator'\n",
    "        )\n",
    "    )\n",
    ")\n",
    "\n",
    "fig = dict( data=data, layout=layout )\n",
    "plotly.offline.plot( fig, validate=False, filename='d3-world-map' )"
   ]
  },
  {
   "cell_type": "code",
   "execution_count": null,
   "metadata": {},
   "outputs": [],
   "source": []
  },
  {
   "cell_type": "code",
   "execution_count": null,
   "metadata": {},
   "outputs": [],
   "source": []
  }
 ],
 "metadata": {
  "kernelspec": {
   "display_name": "Python 3",
   "language": "python",
   "name": "python3"
  },
  "language_info": {
   "codemirror_mode": {
    "name": "ipython",
    "version": 3
   },
   "file_extension": ".py",
   "mimetype": "text/x-python",
   "name": "python",
   "nbconvert_exporter": "python",
   "pygments_lexer": "ipython3",
   "version": "3.7.0"
  }
 },
 "nbformat": 4,
 "nbformat_minor": 2
}
